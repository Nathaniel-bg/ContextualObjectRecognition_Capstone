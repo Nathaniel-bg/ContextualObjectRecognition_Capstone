{
 "cells": [
  {
   "cell_type": "code",
   "execution_count": 2,
   "metadata": {},
   "outputs": [],
   "source": [
    "import torch\n",
    "from matplotlib import pyplot as plt\n",
    "import numpy as np\n",
    "import cv2\n",
    "import pandas as pd\n",
    "import yaml"
   ]
  },
  {
   "cell_type": "code",
   "execution_count": null,
   "metadata": {},
   "outputs": [],
   "source": [
    "# Loading the pre-trained model for ultralytics from pytorch hub (select model here)\n",
    "model = torch.hub.load('ultralytics/yolov5', 'yolov5s')"
   ]
  },
  {
   "cell_type": "code",
   "execution_count": null,
   "metadata": {},
   "outputs": [],
   "source": [
    "img = 'D:\\Documents\\School\\Fourth Year Carleton\\Capstone\\DataSet1-BroadwayAve\\\\frame_506_1162.png'\n",
    "#img = 'D:\\Documents\\School\\Fourth Year Carleton\\Capstone\\DataSet1-BroadwayAve\\\\frame_506_1306.png'\n",
    "\n",
    "names = model.classes = [0, 2]\n",
    "results = model(img)\n",
    "results.print()\n",
    "print(type(results))"
   ]
  },
  {
   "cell_type": "code",
   "execution_count": null,
   "metadata": {},
   "outputs": [],
   "source": [
    "%matplotlib inline\n",
    "plt.imshow(np.squeeze(results.render()))\n",
    "plt.show()\n",
    "results.show()"
   ]
  },
  {
   "cell_type": "code",
   "execution_count": null,
   "metadata": {},
   "outputs": [],
   "source": [
    "#Work in progress on data isolation\n",
    "#Specify 0 in order to go into the \"list\" at the first object which is the board\n",
    "detected_data = results.pandas().xyxy[0]\n",
    "#series = pd.Series(detected_data, index=[\"class\", \"name\"])\n",
    "print(detected_data)\n",
    "\n",
    "xmin= pd.Series(detected_data['xmin']),\n",
    "ymin= pd.Series(detected_data['ymin']),\n",
    "xmax= pd.Series(detected_data['xmax']),\n",
    "ymax= pd.Series(detected_data['ymax']),\n",
    "confidence= pd.Series(detected_data['confidence']),\n",
    "item_class= pd.Series(detected_data['class']),\n",
    "name= pd.Series(detected_data['name'])\n",
    "print(name)\n",
    "\n",
    "\n"
   ]
  },
  {
   "cell_type": "code",
   "execution_count": 3,
   "metadata": {},
   "outputs": [
    {
     "name": "stdout",
     "output_type": "stream",
     "text": [
      "['person', 'bird', 'cat', 'dog', 'backpack', 'umbrella', 'handbag', 'tie', 'suitcase', 'bottle', 'cup', 'fork', 'knife', 'spoon', 'bowl', 'banana', 'apple', 'potted plant', 'microwave', 'oven', 'toaster', 'sink', 'refrigerator', 'vase', 'scissors', 'bottle', 'cell phone']\n"
     ]
    }
   ],
   "source": [
    "def read_yaml(filter_name):\n",
    "    #Load the yaml file\n",
    "    with open('ContextFilters.yaml') as f:\n",
    "        dict = yaml.load(f, Loader=yaml.FullLoader)\n",
    "\n",
    "    names_list = dict[filter_name]['names']\n",
    "    #Return a list of names\n",
    "    return names_list\n",
    "\n",
    "\n",
    "names_list = read_yaml('livingroom')\n",
    "print(names_list)"
   ]
  },
  {
   "cell_type": "code",
   "execution_count": null,
   "metadata": {},
   "outputs": [],
   "source": [
    "#Video capture with object detection\n",
    "#switch out '0' value for video if needed\n",
    "cap = cv2.VideoCapture(0)\n",
    "while cap.isOpened():\n",
    "    ret, frame = cap.read()\n",
    "\n",
    "    #Make detections using the designated model\n",
    "    results = model(frame)\n",
    "    print(results.pandas().xyxy)\n",
    "    #add filter here (filtered_results = filter(results))\n",
    "\n",
    "\n",
    "    #Extract results by squeezing array values out using CV2 imshow\n",
    "    cv2.imshow('Contextual Object Detection', np.squeeze(results.render()))\n",
    "    \n",
    "    #quit window when q is hit\n",
    "    if cv2.waitKey(10) & 0xFF == ord('q'):\n",
    "        break\n",
    "cap.release()\n",
    "cv2.destroyAllWindows()\n"
   ]
  }
 ],
 "metadata": {
  "interpreter": {
   "hash": "17e8dad3c915b5343c5752df5bacbadefc6d928365c0d7661815c5a14c00dc4a"
  },
  "kernelspec": {
   "display_name": "Python 3.9.8 64-bit",
   "language": "python",
   "name": "python3"
  },
  "language_info": {
   "codemirror_mode": {
    "name": "ipython",
    "version": 3
   },
   "file_extension": ".py",
   "mimetype": "text/x-python",
   "name": "python",
   "nbconvert_exporter": "python",
   "pygments_lexer": "ipython3",
   "version": "3.9.8"
  },
  "orig_nbformat": 4
 },
 "nbformat": 4,
 "nbformat_minor": 2
}
