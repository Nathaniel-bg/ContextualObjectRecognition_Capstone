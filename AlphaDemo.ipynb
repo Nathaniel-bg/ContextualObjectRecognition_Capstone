{
 "cells": [
  {
   "cell_type": "code",
   "execution_count": null,
   "metadata": {},
   "outputs": [],
   "source": [
    "# Imports\n",
    "import torch\n",
    "import cv2\n",
    "import numpy as np\n",
    "from matplotlib import pyplot as plt"
   ]
  },
  {
   "cell_type": "markdown",
   "metadata": {},
   "source": [
    "FIRST DEMO\n",
    "-> Demonstrate Smiling Vs Frown trained model\n",
    "-> Load model \"best.pt\"\n",
    "-> Open webcam with model and demonstrate differences"
   ]
  },
  {
   "cell_type": "code",
   "execution_count": null,
   "metadata": {},
   "outputs": [],
   "source": [
    "# Load Model\n",
    "\n",
    "# Nate\n",
    "#model = torch.hub.load('ultralytics/yolov5', 'custom', path='D:/Documents/CapstoneProject/ContextualObjectRecognition_Capstone/best.pt', force_reload=True) \n",
    "\n",
    "#Isaiah\n",
    "model = torch.hub.load('ultralytics/yolov5', 'custom', path='C:/Users/owner/Documents/ContextualObjectRecognition_Capstone/best.pt', force_reload=True) "
   ]
  },
  {
   "cell_type": "code",
   "execution_count": null,
   "metadata": {},
   "outputs": [],
   "source": [
    "# Open webcam to make detections with loaded model\n",
    "\n",
    "cap = cv2.VideoCapture(0) \n",
    "while cap.isOpened():\n",
    "    re, frame = cap.read()\n",
    "\n",
    "    # Make detections\n",
    "    results = model(frame)\n",
    "\n",
    "    cv2.imshow('YOLO', np.squeeze(results.render()))\n",
    "    # Kill window if q is pressed\n",
    "    if cv2.waitKey(10) & 0xFF == ord('q'): \n",
    "        break\n",
    "cap.release()\n",
    "cv2.destroyAllWindows()"
   ]
  },
  {
   "cell_type": "markdown",
   "metadata": {},
   "source": [
    "SECOND DEMO\n",
    "-> Demonstrate filtered and unfiltered \n",
    "-> Load model \"yolov5L\"\n",
    "-> Open webcam with model and demonstrate filtering"
   ]
  },
  {
   "cell_type": "markdown",
   "metadata": {},
   "source": [
    "THIRD DEMO\n",
    "-> Demonstrate filtering on car data"
   ]
  }
 ],
 "metadata": {
  "interpreter": {
   "hash": "674be5375682b69371d761d386cff5a46c28d85af71377734cc352f32256ae57"
  },
  "kernelspec": {
   "display_name": "Python 3.9.8 64-bit",
   "language": "python",
   "name": "python3"
  },
  "language_info": {
   "codemirror_mode": {
    "name": "ipython",
    "version": 3
   },
   "file_extension": ".py",
   "mimetype": "text/x-python",
   "name": "python",
   "nbconvert_exporter": "python",
   "pygments_lexer": "ipython3",
   "version": "3.9.8"
  },
  "orig_nbformat": 4
 },
 "nbformat": 4,
 "nbformat_minor": 2
}
